{
 "cells": [
  {
   "cell_type": "code",
   "metadata": {
    "tags": [],
    "cell_id": "00000-17a28ee5-04a1-429a-8986-020333d27f3b",
    "deepnote_to_be_reexecuted": false,
    "source_hash": "76dbfa93",
    "execution_start": 1623469138776,
    "execution_millis": 11,
    "deepnote_cell_type": "code"
   },
   "source": "import part2",
   "execution_count": 1,
   "outputs": []
  },
  {
   "cell_type": "code",
   "metadata": {
    "tags": [],
    "cell_id": "00001-857a85d4-7c21-4a4b-9d85-b299cd25710e",
    "deepnote_to_be_reexecuted": false,
    "source_hash": "d003ec2e",
    "execution_start": 1623469138810,
    "execution_millis": 18,
    "deepnote_cell_type": "code"
   },
   "source": "part2.is_fibonacci(6765), part2.is_fibonacci(10)",
   "execution_count": 2,
   "outputs": [
    {
     "output_type": "execute_result",
     "execution_count": 2,
     "data": {
      "text/plain": "(True, False)"
     },
     "metadata": {}
    }
   ]
  },
  {
   "cell_type": "code",
   "metadata": {
    "tags": [],
    "cell_id": "00002-bf03528b-4e96-41b6-b5ca-70802d2c86c5",
    "deepnote_to_be_reexecuted": false,
    "source_hash": "70ee6aa8",
    "execution_start": 1623469138826,
    "execution_millis": 8,
    "deepnote_cell_type": "code"
   },
   "source": "a = [1, 2, 3, 4, 5, 6]\nb = [1, 2, 3, 4, 5, 6]\npart2.add_2_iterables(a, b)",
   "execution_count": 3,
   "outputs": [
    {
     "output_type": "execute_result",
     "execution_count": 3,
     "data": {
      "text/plain": "[3, 7, 11]"
     },
     "metadata": {}
    }
   ]
  },
  {
   "cell_type": "code",
   "metadata": {
    "tags": [],
    "cell_id": "00003-c9020ad0-7905-40e4-8a12-874e1c379af3",
    "deepnote_to_be_reexecuted": false,
    "source_hash": "d1f14901",
    "execution_start": 1623469138832,
    "execution_millis": 8,
    "deepnote_cell_type": "code"
   },
   "source": "part2.strip_vowel_from_word(\"Fibonacci\")",
   "execution_count": 4,
   "outputs": [
    {
     "output_type": "execute_result",
     "execution_count": 4,
     "data": {
      "text/plain": "'Fbncc'"
     },
     "metadata": {}
    }
   ]
  },
  {
   "cell_type": "code",
   "metadata": {
    "tags": [],
    "cell_id": "00004-3b9c750a-f827-4811-988b-2c64573ddef7",
    "deepnote_to_be_reexecuted": false,
    "source_hash": "efb1dbf9",
    "execution_start": 1623469138838,
    "execution_millis": 9,
    "deepnote_cell_type": "code"
   },
   "source": "part2.sigmoid_func([1,2,3,4,5,6,7,8])",
   "execution_count": 5,
   "outputs": [
    {
     "output_type": "execute_result",
     "execution_count": 5,
     "data": {
      "text/plain": "[0.7310585786300049,\n 0.8807970779778823,\n 0.9525741268224334,\n 0.9820137900379085,\n 0.9933071490757153,\n 0.9975273768433653,\n 0.9990889488055994,\n 0.9996646498695336]"
     },
     "metadata": {}
    }
   ]
  },
  {
   "cell_type": "code",
   "metadata": {
    "tags": [],
    "cell_id": "00005-e1542e67-46ea-4bba-bfe0-70532098d73e",
    "deepnote_to_be_reexecuted": false,
    "source_hash": "4e48cc66",
    "execution_start": 1623469138849,
    "execution_millis": 7,
    "deepnote_cell_type": "code"
   },
   "source": "part2.shift_characters_by_5(\"python\")",
   "execution_count": 6,
   "outputs": [
    {
     "output_type": "execute_result",
     "execution_count": 6,
     "data": {
      "text/plain": "['u', 'e', 'y', 'm', 't', 's']"
     },
     "metadata": {}
    }
   ]
  },
  {
   "cell_type": "code",
   "metadata": {
    "tags": [],
    "cell_id": "00006-4d2c7a49-3c87-4aef-959c-4f1463d62d9d",
    "deepnote_to_be_reexecuted": false,
    "source_hash": "406bfb72",
    "execution_start": 1623469138875,
    "execution_millis": 6,
    "deepnote_cell_type": "code"
   },
   "source": "part2.check_paragraph_has_any_swear_words(\"This is a paragraph with some swear words like assfukka, assholes\")",
   "execution_count": 7,
   "outputs": [
    {
     "output_type": "execute_result",
     "execution_count": 7,
     "data": {
      "text/plain": "True"
     },
     "metadata": {}
    }
   ]
  },
  {
   "cell_type": "code",
   "metadata": {
    "tags": [],
    "cell_id": "00007-ab081a0c-ae78-48a5-a320-8b99035743ac",
    "deepnote_to_be_reexecuted": false,
    "source_hash": "6539bea6",
    "execution_start": 1623469138876,
    "execution_millis": 6,
    "deepnote_cell_type": "code"
   },
   "source": "part2.add_even_nums_in_list([1, 4, 8, 10, 5, 3, 7])",
   "execution_count": 8,
   "outputs": [
    {
     "output_type": "execute_result",
     "execution_count": 8,
     "data": {
      "text/plain": "22"
     },
     "metadata": {}
    }
   ]
  },
  {
   "cell_type": "code",
   "metadata": {
    "tags": [],
    "cell_id": "00008-cac4aa86-cb74-4d18-a970-687f09e34faa",
    "deepnote_to_be_reexecuted": false,
    "source_hash": "995d9343",
    "execution_start": 1623469138877,
    "execution_millis": 5,
    "deepnote_cell_type": "code"
   },
   "source": "part2.find_biggest_char_in_a_str(\"python\")",
   "execution_count": 9,
   "outputs": [
    {
     "output_type": "execute_result",
     "execution_count": 9,
     "data": {
      "text/plain": "'y'"
     },
     "metadata": {}
    }
   ]
  },
  {
   "cell_type": "code",
   "metadata": {
    "tags": [],
    "cell_id": "00009-ec1a99b8-8422-47fd-83f1-ede0485caad7",
    "deepnote_to_be_reexecuted": false,
    "source_hash": "2cd6fc1c",
    "execution_start": 1623469138879,
    "execution_millis": 12,
    "deepnote_cell_type": "code"
   },
   "source": "part2.add_3rd_num_in_list([1,2,3,4,5,6,7,8,9])",
   "execution_count": 10,
   "outputs": [
    {
     "name": "stdout",
     "text": "[0, 1, 2, 3, 4, 5, 6, 7, 8]\n",
     "output_type": "stream"
    },
    {
     "output_type": "execute_result",
     "execution_count": 10,
     "data": {
      "text/plain": "9"
     },
     "metadata": {}
    }
   ]
  },
  {
   "cell_type": "code",
   "metadata": {
    "tags": [],
    "cell_id": "00010-547f6f7e-abb5-403c-97af-2c4cd75975d6",
    "deepnote_to_be_reexecuted": false,
    "source_hash": "4621dab9",
    "execution_start": 1623469165841,
    "execution_millis": 8,
    "deepnote_cell_type": "code"
   },
   "source": "part2.random_number_plates()",
   "execution_count": 11,
   "outputs": [
    {
     "output_type": "execute_result",
     "execution_count": 11,
     "data": {
      "text/plain": "['KA22SF9197',\n 'KA40DH6842',\n 'KA68HU1881',\n 'KA69OF5690',\n 'KA72HK5991',\n 'KA86UP3701',\n 'KA14SF3619',\n 'KA54ID4237',\n 'KA21LF5069',\n 'KA37TN1678',\n 'KA66RY1273',\n 'KA77XM6247',\n 'KA50FL1127',\n 'KA46DG7033',\n 'KA22NW3506']"
     },
     "metadata": {}
    }
   ]
  },
  {
   "cell_type": "code",
   "metadata": {
    "tags": [],
    "cell_id": "00011-47d5c17e-b165-4992-81c2-f796c42eedd4",
    "deepnote_to_be_reexecuted": false,
    "source_hash": "4afbc665",
    "execution_start": 1623469193903,
    "execution_millis": 14,
    "deepnote_cell_type": "code"
   },
   "source": "part2.random_number_plates_generic(5000, 6000, \"DL\")",
   "execution_count": 12,
   "outputs": [
    {
     "output_type": "execute_result",
     "execution_count": 12,
     "data": {
      "text/plain": "['DL28PG5391',\n 'DL64QW5877',\n 'DL15HW5553',\n 'DL46EM5914',\n 'DL22JE5215',\n 'DL24YB5779',\n 'DL39ND5383',\n 'DL81ZZ5610',\n 'DL77YX5207',\n 'DL11BW5051',\n 'DL45YQ5950',\n 'DL51VG5880',\n 'DL45SW5352',\n 'DL43ZN5537',\n 'DL66OE5825']"
     },
     "metadata": {}
    }
   ]
  },
  {
   "cell_type": "code",
   "metadata": {
    "tags": [],
    "cell_id": "00012-62c1c5e8-f394-4a4f-9f04-73b0f3df7411",
    "deepnote_to_be_reexecuted": false,
    "source_hash": "40683d13",
    "execution_start": 1623469211545,
    "execution_millis": 10,
    "deepnote_cell_type": "code"
   },
   "source": "part2.random_number_plates_using_partial_function(\"AP\")",
   "execution_count": 13,
   "outputs": [
    {
     "output_type": "execute_result",
     "execution_count": 13,
     "data": {
      "text/plain": "['AP32KA9614',\n 'AP16LI4970',\n 'AP10EU5218',\n 'AP80FY5834',\n 'AP32TW1935',\n 'AP74LI6422',\n 'AP41KQ6306',\n 'AP51US2002',\n 'AP18LE1192',\n 'AP31LE2419',\n 'AP82DX6079',\n 'AP56PQ3284',\n 'AP57GS6684',\n 'AP44EK2814',\n 'AP41EM8123']"
     },
     "metadata": {}
    }
   ]
  },
  {
   "cell_type": "code",
   "metadata": {
    "tags": [],
    "cell_id": "00013-0650fb0b-315d-4dcd-9557-e3d95c0aebfa",
    "deepnote_cell_type": "code"
   },
   "source": "",
   "execution_count": null,
   "outputs": []
  },
  {
   "cell_type": "markdown",
   "source": "<a style='text-decoration:none;line-height:16px;display:flex;color:#5B5B62;padding:10px;justify-content:end;' href='https://deepnote.com?utm_source=created-in-deepnote-cell&projectId=0f7cff98-1885-425d-9238-8870ef2bdbd4' target=\"_blank\">\n<img alt='Created in deepnote.com' style='display:inline;max-height:16px;margin:0px;margin-right:7.5px;' src='data:image/svg+xml;base64,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' > </img>\nCreated in <span style='font-weight:600;margin-left:4px;'>Deepnote</span></a>",
   "metadata": {
    "tags": [],
    "created_in_deepnote_cell": true,
    "deepnote_cell_type": "markdown"
   }
  }
 ],
 "nbformat": 4,
 "nbformat_minor": 2,
 "metadata": {
  "orig_nbformat": 2,
  "deepnote": {
   "is_reactive": false
  },
  "deepnote_notebook_id": "63122143-c131-4742-af89-73772272161a",
  "deepnote_execution_queue": []
 }
}