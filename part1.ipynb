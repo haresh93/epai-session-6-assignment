{
 "cells": [
  {
   "cell_type": "markdown",
   "source": "## Poker app",
   "metadata": {
    "tags": [],
    "cell_id": "00000-8258be90-2add-4db7-b470-86bbbd4d8e5d",
    "deepnote_cell_type": "text-cell-h2"
   }
  },
  {
   "cell_type": "code",
   "source": "import part1",
   "metadata": {
    "tags": [],
    "cell_id": "00001-8547c203-1905-4365-b4d0-43e818586f22",
    "deepnote_to_be_reexecuted": false,
    "source_hash": "fdac132b",
    "execution_start": 1623816717190,
    "deepnote_cell_type": "code"
   },
   "outputs": [],
   "execution_count": 1
  },
  {
   "cell_type": "code",
   "source": "# Royal flush vs Straight flush\npart1.get_result_of_poker({(\"10\", \"spades\"), (\"jack\", \"spades\"), (\"queen\", \"spades\"), (\"king\", \"spades\"), (\"ace\", \"spades\")},\n{(\"2\", \"spades\"), (\"3\", \"spades\"), (\"4\", \"spades\"), (\"5\", \"spades\"), (\"6\", \"spades\")},)\n",
   "metadata": {
    "tags": [],
    "cell_id": "00002-14baef12-1066-4a0b-817e-1fed427311b8",
    "deepnote_to_be_reexecuted": false,
    "source_hash": "89fbc9fc",
    "execution_start": 1623816861766,
    "execution_millis": 4,
    "deepnote_cell_type": "code"
   },
   "outputs": [
    {
     "name": "stdout",
     "text": "Player A has a Royal Flush\nPlayer B has a Straight Flush\n1\n2\nPlayer A has won the game.\n",
     "output_type": "stream"
    },
    {
     "output_type": "execute_result",
     "execution_count": 3,
     "data": {
      "text/plain": "'Player A'"
     },
     "metadata": {}
    }
   ],
   "execution_count": 3
  },
  {
   "cell_type": "code",
   "source": "# Straight flush vs Four of a Kind\npart1.get_result_of_poker({(\"2\", \"spades\"), (\"3\", \"spades\"), (\"4\", \"spades\"), (\"5\", \"spades\"), (\"6\", \"spades\")},\n{(\"king\", \"spades\"), (\"king\", \"clubs\"), (\"king\", \"hearts\"), (\"king\", \"diamonds\"), (\"6\", \"spades\")},)",
   "metadata": {
    "tags": [],
    "cell_id": "00003-261feb75-3815-437d-82fa-722ed813a338",
    "deepnote_to_be_reexecuted": false,
    "source_hash": "f03830d3",
    "execution_start": 1623816966232,
    "execution_millis": 19,
    "deepnote_cell_type": "code"
   },
   "outputs": [
    {
     "name": "stdout",
     "text": "Player A has a Straight Flush\nPlayer B has a Four of a Kind\n2\n3\nPlayer A has won the game.\n",
     "output_type": "stream"
    },
    {
     "output_type": "execute_result",
     "execution_count": 5,
     "data": {
      "text/plain": "'Player A'"
     },
     "metadata": {}
    }
   ],
   "execution_count": 5
  },
  {
   "cell_type": "code",
   "source": "# Full house vs Four of a Kind\npart1.get_result_of_poker({(\"king\", \"spades\"), (\"king\", \"clubs\"), (\"king\", \"hearts\"), (\"queen\", \"diamonds\"), (\"queen\", \"spades\")},\n{(\"king\", \"spades\"), (\"king\", \"clubs\"), (\"king\", \"hearts\"), (\"king\", \"diamonds\"), (\"6\", \"spades\")},)",
   "metadata": {
    "tags": [],
    "cell_id": "00004-b05bb374-179e-49c7-9816-22cbbc355d5c",
    "deepnote_to_be_reexecuted": false,
    "source_hash": "831e0107",
    "execution_start": 1623817043850,
    "execution_millis": 20,
    "deepnote_cell_type": "code"
   },
   "outputs": [
    {
     "name": "stdout",
     "text": "Player A has a Full House\nPlayer B has a Four of a Kind\n4\n3\nPlayer B has won the game.\n",
     "output_type": "stream"
    },
    {
     "output_type": "execute_result",
     "execution_count": 8,
     "data": {
      "text/plain": "'Player B'"
     },
     "metadata": {}
    }
   ],
   "execution_count": 8
  },
  {
   "cell_type": "code",
   "source": "# Flush vs Straight\npart1.get_result_of_poker({(\"2\", \"spades\"), (\"8\", \"spades\"), (\"3\", \"spades\"), (\"5\", \"spades\"), (\"ace\", \"spades\")},\n{(\"6\", \"spades\"), (\"7\", \"hearts\"), (\"8\", \"clubs\"), (\"9\", \"spades\"), (\"10\", \"diamonds\")},)",
   "metadata": {
    "tags": [],
    "cell_id": "00005-cdc2fc9d-bbe4-4c8b-89c6-33ba7a1dcf58",
    "deepnote_to_be_reexecuted": false,
    "source_hash": "68072f7e",
    "execution_start": 1623817101314,
    "execution_millis": 4,
    "deepnote_cell_type": "code"
   },
   "outputs": [
    {
     "name": "stdout",
     "text": "Player A has a Flush\nPlayer B has a Straight\n5\n6\nPlayer A has won the game.\n",
     "output_type": "stream"
    },
    {
     "output_type": "execute_result",
     "execution_count": 9,
     "data": {
      "text/plain": "'Player A'"
     },
     "metadata": {}
    }
   ],
   "execution_count": 9
  },
  {
   "cell_type": "code",
   "source": "# Two Pair vs One Pair\npart1.get_result_of_poker({(\"5\", \"spades\"), (\"5\", \"hearts\"), (\"6\", \"clubs\"), (\"6\", \"spades\"), (\"10\", \"diamonds\")},\n{(\"5\", \"spades\"), (\"5\", \"hearts\"), (\"6\", \"clubs\"), (\"4\", \"spades\"), (\"10\", \"diamonds\")},)",
   "metadata": {
    "tags": [],
    "cell_id": "00006-7cdb01ac-58d4-49b2-b93f-12a580192d4f",
    "deepnote_to_be_reexecuted": false,
    "source_hash": "ce489d00",
    "execution_start": 1623817147686,
    "execution_millis": 6,
    "deepnote_cell_type": "code"
   },
   "outputs": [
    {
     "name": "stdout",
     "text": "Player A has a Two Pair\nPlayer B has a Pair\n8\n9\nPlayer A has won the game.\n",
     "output_type": "stream"
    },
    {
     "output_type": "execute_result",
     "execution_count": 10,
     "data": {
      "text/plain": "'Player A'"
     },
     "metadata": {}
    }
   ],
   "execution_count": 10
  },
  {
   "cell_type": "code",
   "source": "",
   "metadata": {
    "tags": [],
    "cell_id": "00007-a137a090-bb7d-472e-a291-5c828e3e68d6",
    "deepnote_cell_type": "code"
   },
   "outputs": [],
   "execution_count": null
  },
  {
   "cell_type": "markdown",
   "source": "<a style='text-decoration:none;line-height:16px;display:flex;color:#5B5B62;padding:10px;justify-content:end;' href='https://deepnote.com?utm_source=created-in-deepnote-cell&projectId=0f7cff98-1885-425d-9238-8870ef2bdbd4' target=\"_blank\">\n<img alt='Created in deepnote.com' style='display:inline;max-height:16px;margin:0px;margin-right:7.5px;' src='data:image/svg+xml;base64,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' > </img>\nCreated in <span style='font-weight:600;margin-left:4px;'>Deepnote</span></a>",
   "metadata": {
    "tags": [],
    "created_in_deepnote_cell": true,
    "deepnote_cell_type": "markdown"
   }
  }
 ],
 "nbformat": 4,
 "nbformat_minor": 2,
 "metadata": {
  "orig_nbformat": 2,
  "deepnote": {
   "is_reactive": false
  },
  "deepnote_notebook_id": "466fceeb-6ad5-4e6e-8320-096736730f01",
  "deepnote_execution_queue": []
 }
}